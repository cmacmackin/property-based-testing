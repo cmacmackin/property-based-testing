{
 "cells": [
  {
   "cell_type": "markdown",
   "id": "11edaa26-40b0-4efc-91ff-d8055b04ef61",
   "metadata": {},
   "source": [
    "# Property-Based Testing with Hypothesis\n",
    "\n",
    "The RSE team encourages everyone to write unit tests for their code. This gives you confidence that your code is correct and makes it easier to pin-point where bugs originate from if they do arise. However, it can often be quite time-consuming to write a sufficiently broad range of tests to cover all possible inputs. This post is going to illustrate how you can use a technique called \"property-based testing\" to address this. It will use Python and the [Hypothesis](https://hypothesis.readthedocs.io/en/latest/) library. However, similar libraries exist for a number of other languages.\n",
    "\n",
    "**Note: This post was written using a [Jupyter notebook](https://jupyter.org/). You can [find it on GitHub](https://github.com/cmacmackin/property-based-testing) or [run it interactively on Binder](https://mybinder.org/v2/gh/cmacmackin/property-based-testing/HEAD?labpath=hypothesis-demo.ipynb). If you wish to run it on your own computer, you will need to install `hypothesis` and `pytest`.**"
   ]
  },
  {
   "cell_type": "markdown",
   "id": "0c75d5d9-d8a1-4b81-8b12-6f08a2da524d",
   "metadata": {},
   "source": [
    "## Example Problem: Rational Numbers\n",
    "Let's say we want to implement a class which can exactly represent rational numbers (i.e., numbers which are the quotient of two integers). In general, [floating point numbers](https://en.wikipedia.org/wiki/Floating-point_arithmetic) can only represent these approximately. We will use the [dataclass](https://docs.python.org/3/library/dataclasses.html) decorator to give us a number of \"boilerplate\" methods automatically (like the constructor, conversion to a string, and equality comparison). In Python, floating-point and integer values are immutable, so we will make our class immutable using the \"frozen\" argument in the dataclass [decorator](https://realpython.com/primer-on-python-decorators/). For the sake of brevity, the only operators we will implement for this class are addition and multiplication."
   ]
  },
  {
   "cell_type": "code",
   "execution_count": null,
   "id": "d83ad345",
   "metadata": {},
   "outputs": [],
   "source": [
    "from dataclasses import dataclass\n",
    "\n",
    "\n",
    "@dataclass(frozen=True)\n",
    "class Rational:\n",
    "    \"\"\"Representation of a rational number (i.e., a number which is the\n",
    "    quotient of two integers).\n",
    "\n",
    "    \"\"\"\n",
    "    numerator: int\n",
    "    denominator: int\n",
    "\n",
    "    def __add__(self, other: \"int | Rational\") -> \"Rational\":\n",
    "        \"\"\"Addition operator.\"\"\"\n",
    "        if isinstance(other, int):\n",
    "            return Rational(self.numerator + self.denominator * other, self.denominator)\n",
    "        return Rational(\n",
    "            self.numerator * other.denominator + other.numerator * self.denominator,\n",
    "            self.denominator * other.denominator\n",
    "        )\n",
    "\n",
    "    def __mul__(self, other: \"int | Rational\") -> \"Rational\":\n",
    "        \"\"\"Multiplication operator.\"\"\"\n",
    "        if isinstance(other, int):\n",
    "            return Rational(self.numerator * other, self.denominator)\n",
    "        return Rational(self.numerator * other.numerator, self.denominator * other.denominator)\n",
    "\n",
    "    # In a real implementation, we'd also provide operators for subtraction, division,\n",
    "    # raising to a power, comparisons, etc.\n",
    "    \n",
    "    def __float__(self) -> float:\n",
    "        \"\"\"Converts to a floating point number.\"\"\"\n",
    "        return self.numerator / self.denominator"
   ]
  },
  {
   "cell_type": "markdown",
   "id": "35f51542",
   "metadata": {},
   "source": [
    "Note the use of Python [type annotations](https://docs.python.org/3/library/typing.html) to indicate the expected data type of function arguments and results. This is not required for property-based testing but generally makes code more readable and easier to maintain. `int | Rational` indicates that either an integer or a `Rational` value is accepted.\n",
    "\n",
    "Let's write a few simple tests for this class. We'll start off using conventional testing approaches. These tests are written to be run using [pytest](https://docs.pytest.org/en/7.4.x/)."
   ]
  },
  {
   "cell_type": "code",
   "execution_count": null,
   "id": "ebf9468f",
   "metadata": {},
   "outputs": [],
   "source": [
    "# To make `pytest` play nicely with Jupyter notebooks, we use the `ipytest`\n",
    "# package. This provides the ipython magic command `%%ipytest` to run all\n",
    "# the tests defined in a cell.\n",
    "import ipytest\n",
    "ipytest.autoconfig(addopts=(\"-W ignore::pytest.PytestAssertRewriteWarning\", \"-q\", \"--color=yes\"))"
   ]
  },
  {
   "cell_type": "code",
   "execution_count": null,
   "id": "5dcedd4f",
   "metadata": {},
   "outputs": [],
   "source": [
    "%%ipytest \n",
    "\n",
    "def test_rational_addition() -> None:\n",
    "    assert Rational(1, 2) + Rational(1, 3) == Rational(5, 6)\n",
    "\n",
    "\n",
    "def test_rational_multiplication() -> None:\n",
    "    assert Rational(1, 2) * Rational(3, 4) == Rational(3, 8)\n",
    "\n",
    "\n",
    "def test_rational_to_float() -> None:\n",
    "    x = Rational(1, 2)\n",
    "    assert float(x) == 0.5"
   ]
  },
  {
   "cell_type": "markdown",
   "id": "113504f1-67b4-4a54-8f08-44b45f9a1253",
   "metadata": {},
   "source": [
    "However, this only tests a limited number of cases. What if instead we defined some property of the class and its methods which should hold true for *any* input?"
   ]
  },
  {
   "cell_type": "markdown",
   "id": "11544f18-35ab-4b6e-bd81-5d389298ae65",
   "metadata": {},
   "source": [
    "## Introducing Hypothesis\n",
    "The [Hypothesis](https://hypothesis.readthedocs.io/en/latest/) library provides \"[strategies](https://hypothesis.readthedocs.io/en/latest/data.html)\" for generating test data. Let's use these to write a test  to check that our implementation of addition of rational numbers is commutative. While commutivity is not enough on its own to prove that our implementation is correct (after all, it is also satisfied by multiplication), it can be [combined with other properties](https://fsharpforfunandprofit.com/posts/property-based-testing/#property-based-testing) to uniquely define addition."
   ]
  },
  {
   "cell_type": "code",
   "execution_count": null,
   "id": "cebf83fe-1188-456f-83b9-7083d52a5e30",
   "metadata": {},
   "outputs": [],
   "source": [
    "%%ipytest\n",
    "\n",
    "from hypothesis import given\n",
    "from hypothesis.strategies import integers\n",
    "\n",
    "@given(integers(), integers(), integers(), integers())\n",
    "def test_addition_commutative(num1: int, num2: int, denom1: int, denom2: int) -> None:\n",
    "    r1 = Rational(num1, denom1)\n",
    "    r2 = Rational(num2, denom2)\n",
    "    assert r1 + r2 == r2 + r1"
   ]
  },
  {
   "cell_type": "markdown",
   "id": "679e3e8c-1f48-4421-bc44-dc969a6f5a58",
   "metadata": {},
   "source": [
    "The `@given` decorator indicates that Hypothesis will generate a number of inputs to pass to the test as arguments. We use functions from Hypothesis to generate strategy objects to pass as arguments to `@given`. Here, we've passed in four strategies for generating integers, created with calls to [integers](https://hypothesis.readthedocs.io/en/latest/data.html#hypothesis.strategies.integers). This optionally accepts arguments specifying the minimum and maximum integer to generate, but we have chosen not to constrain them. The integers are then passed to the arguments named `num1`, `num2`, `denom1`, and `denom2`.  Hypothesis [integrates seamlessly](https://hypothesis.readthedocs.io/en/latest/supported.html#testing-frameworks) with both `pytest` and `unittest`. We run our tests exactly as we would normally with pytest. In a real project, this would probably mean executing `pytest` from the command-line, while here we use the `%%ipytest` magic.\n",
    "\n",
    "When we run our tests, Hypothesis will actually execute `test_addition_commutative` a number of times, with different \"examples\" of integer inputs. These will include corner cases such as the maximum integer, minimum integer, and zero. If Hypothesis encounters an error or a test failing at any point, it will try to find simpler cases which reproduce that failure. It refers to this as \"[shrinking](https://hypothesis.readthedocs.io/en/latest/data.html)\" the data. How data shrinks will depend on the strategy. For integers, \"examples . . . will shrink towards zero, and negative values will also shrink towards positive (i.e. -n may be replaced by +n)\".\n",
    "\n",
    "If you want to see more details of what Hypothesis is doing, you can play with some of its [command-line settings](https://hypothesis.readthedocs.io/en/latest/details.html#the-hypothesis-pytest-plugin). In particular, you can display some [statistics about your test](https://hypothesis.readthedocs.io/en/latest/details.html#statistics) or increase the [verbosity](https://hypothesis.readthedocs.io/en/latest/settings.html#verbose-output)."
   ]
  },
  {
   "cell_type": "markdown",
   "id": "5861833b-2054-470a-aead-cceeb9b4e79d",
   "metadata": {},
   "source": [
    "## Generating Custom Datatypes\n",
    "\n",
    "It was rather tedious to have to ask for four integers and then manually create our rational numbers. Is there a way we can generate them directly? Yes, using the [builds](https://hypothesis.readthedocs.io/en/latest/data.html#hypothesis.strategies.builds) function. This takes as its first argument a class or function. It will then infer what strategies to use to provide arguments to the class/function based on [type annotations](https://docs.python.org/3/library/typing.html), if present. You can also specify these strategies manually with additional positional or keyword arguments to `builds`. Let's use this to implement a test for distributivity of addition and multiplication of rational numbers."
   ]
  },
  {
   "cell_type": "code",
   "execution_count": null,
   "id": "6c341025-fae2-4c60-8334-df77d5041f72",
   "metadata": {},
   "outputs": [],
   "source": [
    "%%ipytest\n",
    "\n",
    "from hypothesis.strategies import builds\n",
    "\n",
    "@given(builds(Rational), builds(Rational), builds(Rational))\n",
    "def test_rational_distributivity(r1: Rational, r2: Rational, r3: Rational) -> None:\n",
    "    assert r1 * (r2 + r3) == r1 * r2 + r1 * r3"
   ]
  },
  {
   "cell_type": "markdown",
   "id": "20868b4b-6be1-4bc6-9b12-e294fbb948fe",
   "metadata": {},
   "source": [
    "This is a great example of the power of property-based testing. We have written a very short test defining a simple mathematical property which should hold true, but it has found a bug in our implementation which is not immediately obvious and which we may not have thought to test for on our own.\n",
    "\n",
    "The exact nature of the failure being shown may vary depending on which version of Hypothesis you are using or, to some extent, by chance. The one seen at the time of writing this article occurred with the following inputs:\n",
    "```\n",
    "r1=Rational(numerator=0, denominator=-1)\n",
    "r2=Rational(numerator=0, denominator=1)\n",
    "r3=Rational(numerator=0, denominator=1)\n",
    "```\n",
    "\n",
    "The problem here is the handling of negative numbers in the numerator and denominator. Let's work out the two sides of our identity step-by-step:\n",
    "```\n",
    "LHS = 0/-1 * (0/1 + 0/1)\n",
    "    = 0/-1 * (0*1 + 0*1)/(1*1)\n",
    "    = 0/-1 * 0/1\n",
    "    = (0*0)/(-1*1)\n",
    "    = 0/-1\n",
    "\n",
    "RHS = 0/-1 * 0/1 + 0/-1 * 0/1\n",
    "    = (0*0)/(-1*1) + (0*0)/(-1*1)\n",
    "    = 0/-1 + 0/-1\n",
    "    = (0*-1 + 0*-1)/(-1*-1)\n",
    "    = 0/1\n",
    "```\n",
    "Now, we know that `0/1 == 0/-1`, but the default [dataclass](https://docs.python.org/3/library/dataclasses.html#dataclasses.dataclass) equality operator does not. It is simply checking that the numerators of the LHS and RHS are identical and so are the denominators. Now we stop to think, we realise this could cause additional problems if we are comparing fractions like `1/2 == 2/4`. Let's reimplement our Rational class with a custom equality operator to fix this."
   ]
  },
  {
   "cell_type": "code",
   "execution_count": null,
   "id": "054ead89-36ef-4bc1-b5eb-0b1992a00a87",
   "metadata": {},
   "outputs": [],
   "source": [
    "@dataclass(frozen=True)\n",
    "class Rational:\n",
    "    \"\"\"Representation of a rational number (i.e., a number which is the\n",
    "    quotient of two integers).\n",
    "\n",
    "    \"\"\"\n",
    "    numerator: int\n",
    "    denominator: int\n",
    "\n",
    "    def __add__(self, other: \"int | Rational\") -> \"Rational\":\n",
    "        \"\"\"Addition operator.\"\"\"\n",
    "        if isinstance(other, int):\n",
    "            return Rational(self.numerator + self.denominator * other, self.denominator)\n",
    "        return Rational(\n",
    "            self.numerator * other.denominator + other.numerator * self.denominator,\n",
    "            self.denominator * other.denominator\n",
    "        )\n",
    "\n",
    "    def __mul__(self, other: \"int | Rational\") -> \"Rational\":\n",
    "        \"\"\"Multiplication operator.\"\"\"\n",
    "        if isinstance(other, int):\n",
    "            return Rational(self.numerator * other, self.denominator)\n",
    "        return Rational(self.numerator * other.numerator, self.denominator * other.denominator)\n",
    "\n",
    "    # In a real implementation, we'd also provide operators for subtraction, division,\n",
    "    # raising to a power, comparisons, etc.\n",
    "    \n",
    "    def __float__(self) -> float:\n",
    "        \"\"\"Converts to a floating point number.\"\"\"\n",
    "        return self.numerator / self.denominator\n",
    "\n",
    "    def __eq__(self, other: \"int | Rational\") -> None:\n",
    "        return float(self) == float(other)"
   ]
  },
  {
   "cell_type": "markdown",
   "id": "0be34080-bda8-4e78-aad2-632189e6840f",
   "metadata": {},
   "source": [
    "We try converting our rationals into floats and comparing these. Let's see if that works."
   ]
  },
  {
   "cell_type": "code",
   "execution_count": null,
   "id": "a45a6929-da39-4611-9a90-f6dca6f9893c",
   "metadata": {},
   "outputs": [],
   "source": [
    "ipytest.run(\"{MODULE}::test_rational_distributivity\") # Reruns our distributivity test\n",
    "# Note: this cell may be quite slow to finish"
   ]
  },
  {
   "cell_type": "markdown",
   "id": "b1c5137a-247e-4a5a-b4b0-d284426cb6ba",
   "metadata": {},
   "source": [
    "It turns out we've introduced a new bug. Because we are taking the quotient between the numerator and denominator, if the denominator is 0 then we get a `DivideByZero` error. A fraction with 0 in the denominator is undefined in any case, so let's adjust our test inputs to avoid having to deal with that. (A better approach might be to forbid the creation of rationals with a 0 denominator, but that would rob us of the chance to see how to modify Hypothesis strategies!)"
   ]
  },
  {
   "cell_type": "markdown",
   "id": "93712759-4f66-4f4e-ae86-0f8791c0a9e5",
   "metadata": {},
   "source": [
    "## Defining our own Strategies\n",
    "\n",
    "What we want is a way to tell Hypothesis to generate test data where we know the denominator is non-zero. We can still use the `builds` function to do this, but we'll need to give it an additional argument. We will also need to define a strategy for non-zero integers. We can use the [filter](https://hypothesis.readthedocs.io/en/latest/data.html#filtering) method to get rid of any integers with the value of zero. This method takes a Python callable object as an argument which will evaluate potential integer examples. The callable should return `True` if we want to use the integer and `False` if we do not. As it happens, the `bool()` function does exactly what we want, as `bool(0) == False` and `bool(n) == True`, where `n` is any non-zero integer."
   ]
  },
  {
   "cell_type": "code",
   "execution_count": null,
   "id": "40b4e78e-5ad5-4065-a278-b5e1960a56b3",
   "metadata": {},
   "outputs": [],
   "source": [
    "%%ipytest\n",
    "\n",
    "non_zero_integers = integers().filter(bool)\n",
    "finite_rationals = builds(Rational, denominator=non_zero_integers)\n",
    "\n",
    "@given(finite_rationals, finite_rationals, finite_rationals)\n",
    "def test_rational_distributivity(r1: Rational, r2: Rational, r3: Rational) -> None:\n",
    "    assert r1 * (r2 + r3) == r1 * r2 + r1 * r3"
   ]
  },
  {
   "cell_type": "markdown",
   "id": "e6d5a254-3290-4c36-aa8c-8434109961de",
   "metadata": {},
   "source": [
    "Great, that's handled the divide-by-zero problem. Let's try writing a few more tests."
   ]
  },
  {
   "cell_type": "code",
   "execution_count": null,
   "id": "aa087477-955f-495e-a0a7-2dc1e2312b22",
   "metadata": {},
   "outputs": [],
   "source": [
    "%%ipytest\n",
    "\n",
    "@given(non_zero_integers, non_zero_integers)\n",
    "def test_multiply_by_reciprocal(x: int, y: int):\n",
    "    r1 = Rational(x, y)\n",
    "    r2 = Rational(y, x)\n",
    "    assert r1 * r2 == 1\n",
    "\n",
    "@given(finite_rationals, non_zero_integers)\n",
    "def test_reducible_fractions(r: Rational, x: int) -> None:\n",
    "    assert r == Rational(r.numerator * x, r.denominator * x)\n",
    "\n",
    "@given(finite_rationals, finite_rationals)\n",
    "def test_multiplication_commutative(r1: Rational, r2: Rational) -> None:\n",
    "    assert r1 * r2 == r2 * r1"
   ]
  },
  {
   "cell_type": "markdown",
   "id": "8feb4e43-b582-4119-adcd-2b506c659f92",
   "metadata": {},
   "source": [
    "## Generalising our Tests\n",
    "We wrote our addition and multiplication methods to be able to accept both rational and integer inputs (a so-called [union](https://docs.python.org/3/library/typing.html#typing.Union) type). However, so far we've only tested them with rationals. Using the [one_of](https://hypothesis.readthedocs.io/en/latest/data.html#hypothesis.strategies.one_of) strategy from Hypothesis, we can generate examples of both rationals and integers. `one_of` takes a number of other strategies as arguments and then will select examples from any of them."
   ]
  },
  {
   "cell_type": "code",
   "execution_count": null,
   "id": "8ff726b6-87c7-47ad-981f-af779f728f8f",
   "metadata": {},
   "outputs": [],
   "source": [
    "%%ipytest\n",
    "\n",
    "from hypothesis.strategies import one_of\n",
    "\n",
    "# Define a datatype that is the \"union\" of integers and rationals\n",
    "Number = int | Rational\n",
    "int_or_rational = one_of(integers(), finite_rationals)\n",
    "\n",
    "@given(int_or_rational, int_or_rational)\n",
    "def test_addition_commutative(x: Number, y: Number) -> None:\n",
    "    assert x + y == y + x\n",
    "\n",
    "@given(int_or_rational, int_or_rational)\n",
    "def test_multiplication_commutative(x: Number, y: Number) -> None:\n",
    "    assert x * y == y * x\n",
    "\n",
    "@given(int_or_rational, int_or_rational, int_or_rational)\n",
    "def test_rational_distributivity(r1: Number, r2: Number, r3: Number) -> None:\n",
    "    assert r1 * (r2 + r3) == r1 * r2 + r1 * r3"
   ]
  },
  {
   "cell_type": "markdown",
   "id": "11f7d9e6-cb76-47b0-8a7f-52b7d33dea33",
   "metadata": {},
   "source": [
    "This has revealed an oversight in our implementation. When the left-hand argument is a Rational, the Rational class can handle the arithmetic as expected. If both arguments are integers, the usual integer operators are called. However, we have not considered the case where the left-hand argument is an integer and the right-hand is rational. This case is not handled by `Rational.__add__` or `Rational.__mul__`. Fortunately, [Python supplies methods which can address this](https://docs.python.org/3/reference/datamodel.html#object.__radd__): `__radd__` and `__rmul__`. If one were to execute\n",
    "```\n",
    "r = Rational(1, 2)\n",
    "x = 2 + r\n",
    "```\n",
    "then the second line will try to call\n",
    "```\n",
    "x = r.__radd__(2)\n",
    "```\n",
    "\n",
    "Let's re-implement our class with those methods and then try running our tests again."
   ]
  },
  {
   "cell_type": "code",
   "execution_count": null,
   "id": "caf84ec5-5088-4082-a728-cd2d9b8b8d30",
   "metadata": {},
   "outputs": [],
   "source": [
    "@dataclass(frozen=True)\n",
    "class Rational:\n",
    "    \"\"\"Representation of a rational number (i.e., a number which is the\n",
    "    quotient of two integers).\n",
    "\n",
    "    \"\"\"\n",
    "    numerator: int\n",
    "    denominator: int\n",
    "\n",
    "    def __add__(self, other: \"int | Rational\") -> \"Rational\":\n",
    "        \"\"\"Addition operator.\"\"\"\n",
    "        if isinstance(other, int):\n",
    "            return Rational(self.numerator + self.denominator * other, self.denominator)\n",
    "        return Rational(\n",
    "            self.numerator * other.denominator + other.numerator * self.denominator,\n",
    "            self.denominator * other.denominator\n",
    "        )\n",
    "\n",
    "    def __mul__(self, other: \"int | Rational\") -> \"Rational\":\n",
    "        \"\"\"Multiplication operator.\"\"\"\n",
    "        if isinstance(other, int):\n",
    "            return Rational(self.numerator * other, self.denominator)\n",
    "        return Rational(self.numerator * other.numerator, self.denominator * other.denominator)\n",
    "\n",
    "    def __radd__(self, other: int) -> \"Rational\":\n",
    "        return self + other\n",
    "\n",
    "    def __rmul__(self, other: int) -> \"Rational\":\n",
    "        return self * other\n",
    "\n",
    "    # In a real implementation, we'd also provide operators for subtraction, division,\n",
    "    # raising to a power, comparisons, etc.\n",
    "    \n",
    "    def __float__(self) -> float:\n",
    "        \"\"\"Converts to a floating point number.\"\"\"\n",
    "        return self.numerator / self.denominator\n",
    "\n",
    "    def __eq__(self, other: \"int | Rational\") -> None:\n",
    "        return float(self) == float(other)"
   ]
  },
  {
   "cell_type": "code",
   "execution_count": null,
   "id": "75797171-a066-438a-8e29-de6310746766",
   "metadata": {},
   "outputs": [],
   "source": [
    "%%ipytest\n",
    "\n",
    "# We need to redefine finite_rationals to ensure it uses our new implementation of Rational\n",
    "finite_rationals = builds(Rational, denominator=non_zero_integers)\n",
    "int_or_rational = one_of(integers(), finite_rationals)\n",
    "\n",
    "@given(int_or_rational, int_or_rational)\n",
    "def test_addition_commutative(x: Number, y: Number) -> None:\n",
    "    assert x + y == y + x\n",
    "\n",
    "@given(int_or_rational, int_or_rational)\n",
    "def test_multiplication_commutative(x: Number, y: Number) -> None:\n",
    "    assert x * y == y * x\n",
    "\n",
    "@given(int_or_rational, int_or_rational, int_or_rational)\n",
    "def test_rational_distributivity(r1: Number, r2: Number, r3: Number) -> None:\n",
    "    assert r1 * (r2 + r3) == r1 * r2 + r1 * r3"
   ]
  },
  {
   "cell_type": "markdown",
   "id": "62b9fd15-04cd-486a-b97f-8a7fcdc3cf59",
   "metadata": {},
   "source": [
    "And that's fixed it. Our tests are passing!"
   ]
  },
  {
   "cell_type": "markdown",
   "id": "4afdd915-4d8c-45bd-b922-ff11c1740ae4",
   "metadata": {},
   "source": [
    "## Caveats\n",
    "We've seen how property-based testing can be useful in generating large quantities of diverse test data, allowing you to catch obscure bugs you wouldn't have considered. However, there are a few \"gotchas\" you need to be aware of when using it.\n",
    "\n",
    "### Test run-time\n",
    "Because Hypothesis runs your test many times, with many inputs, you need to be particularly conscious of how long your tests take. You should try to keep test data fairly small to help with this. By default, Hypothesis will complain if it [takes more than 200ms](https://hypothesis.readthedocs.io/en/latest/settings.html#hypothesis.settings.deadline) to run your test. This can sometimes be troublesome if developers are running tests on a number of different machines (e.g., Continuous Integration servers). A test that runs quickly on one machine may exceed that time-limit on another, slower machine. Sometimes it will be necessary to remove this deadline entirely, especially when running tests using Continuous Integration (CI). However, this could make your test-suite slow to execute, reducing the convenience of running it regularly. One way around this is to configure Hypothesis to [reduce the number of times a test is run](https://hypothesis.readthedocs.io/en/latest/settings.html#hypothesis.settings.max_examples) during development, but this increases the likelihood that a bug will be missed.\n",
    "\n",
    "### Unexpected failures\n",
    "Each time Hypothesis is run, it will try different combinations of inputs on your tests. It will keep a database of cases that caused failures in the past in a hidden folder and be sure to try those. However, it remains possible for tests that have particularly obscure bugs to suddenly fail without warning if Hypothesis happens to hit upon the right combination of inputs. This can be frustrating and can sometimes distract from whatever feature you are meaning to implement at the moment. That said, it is still finding a genuine bug and it's probably better to identify it this way than via a bug report.\n",
    "\n",
    "### Non-deterministic functions\n",
    "When Hypothesis finds a set of inputs that cause a test to fail, it will try running the test again to see if the same thing happens. If it does not, then Hypothesis will complain that the test is \"flaky\". If there is some non-deterministic element of the function you are testing then this could cause problems. However, you should generally try to avoid non-deterministic code anyway. If you need to generate random numbers (e.g., for a Monte-Carlo simulation), [Hypothesis can provide these for you](https://hypothesis.readthedocs.io/en/latest/data.html#hypothesis.strategies.randoms) in a way that it can play with nicely.\n",
    "\n",
    "A related issue is with tests where the run-time could vary. Examples of this would be tests that need to wait for a network response or functions that employ caching to speed-up subsequent runs with the same input. If the first time a test is run it exceeds the time-limit but a second time it does not, then Hypothesis will also complain about the test being flaky.\n",
    "\n",
    "### Hard-to-Define Data\n",
    "In our examples above we are dealing with a simple data structure which is valid for any combination of integers. (Or almost any; we saw how having a denominator of 0 can cause problems.) The more complicated a data structure, the greater the chance it can end up in an invalid state, with attributes holding values that are in some way contradictory. This makes it more difficult to [devise strategies which produce useful test data](https://hypothesis.works/articles/generating-the-right-data/). With scientific software, the problem can become particularly severe, as we are often dealing with arrays of data which need to look a certain way, but which you can't easily define in terms of mathematical functions. For example, the function you are testing might need some data from a JET pulse. You can not just pass it an array of random floats! You will somehow need to generate some data that looks realistic and is self-consistent. This can be difficult and sometimes impossible. In these situations, you may have to give up on property-based testing and just resort to using a few real-world datasets as inputs.\n",
    "\n",
    "### Numerical error\n",
    "In scientific programming, we are often employing floating-point arithmetic. Unfortunately, due to the finite-precision with which floating-point numbers can be stored, there will always be some \"round-off error\" in the results. Furthermore, the numerical methods we use to solve mathematical problems will normally have some \"truncation error\" due to the approximations involved. As a result, we are used to testing for equality within some tolerance.\n",
    "\n",
    "The problem with property-based testing is that it is very good at finding particularly poorly-behaved inputs. For numerical methods, it can very often find an obscure case that will have quite high error, making it difficult to select an appropriate tolerance. This makes it hard to write good property-based tests for numerical methods. Simple input data (e.g., linear functions) can sometimes work well, but more complicated inputs often do not. Generally, I would advise only to use property-based testing on numerical methods if you have a solid understanding of how the truncation error and round-off error are expected to behave. Unless there is a mathematical proof that the error will not exceed some tolerance, odds are that Hypothesis will find a case where it does!"
   ]
  },
  {
   "cell_type": "markdown",
   "id": "c92bb00c-5d20-417c-bb53-a652e98db208",
   "metadata": {},
   "source": [
    "## Conclusion\n",
    "This was a simple introduction to the power of property-based testing. It gives you a bit of understanding of what it can achieve and how you can use it in Python. It also warns against some of the pitfalls of this approach (long runtimes and unexpected failures) and when it might not be appropriate (working with complicated data or numerical methods). However, this post is only scratching the surface of what Hypothesis can do and the different sorts of properties you can test for.\n",
    "\n",
    "Despite the caveats outlined in the previous section, property-based testing is an incredibly useful technique with many potential applications for scientific programmers. Take a look at some of the links below to learn more about it and start thinking about how to apply it to your own code!"
   ]
  },
  {
   "cell_type": "markdown",
   "id": "0e0316f8-6cd1-4d2a-9f78-98e2ad12a738",
   "metadata": {},
   "source": [
    "## Further Reading\n",
    "- [Hypothesis Documentation](https://hypothesis.readthedocs.io/en/latest/index.html)\n",
    "- [Hypothesis Quick-Start Guide](https://hypothesis.readthedocs.io/en/latest/quickstart.html)\n",
    "- [Choosing Properties for Property-Based Testing](https://fsharpforfunandprofit.com/posts/property-based-testing-2/) (examples in F#, but concepts apply to all languages)\n",
    "- [Hypothesis for the Scientific Stack](https://hypothesis.readthedocs.io/en/latest/numpy.html)\n",
    "- [Property-based testing libraries for other languages](https://hypothesis.works/articles/quickcheck-in-every-language/)\n",
    "- [Hypothesis Blog](https://hypothesis.works/articles/)"
   ]
  }
 ],
 "metadata": {
  "kernelspec": {
   "display_name": "Python 3 (ipykernel)",
   "language": "python",
   "name": "python3"
  },
  "language_info": {
   "codemirror_mode": {
    "name": "ipython",
    "version": 3
   },
   "file_extension": ".py",
   "mimetype": "text/x-python",
   "name": "python",
   "nbconvert_exporter": "python",
   "pygments_lexer": "ipython3",
   "version": "3.10.12"
  }
 },
 "nbformat": 4,
 "nbformat_minor": 5
}
